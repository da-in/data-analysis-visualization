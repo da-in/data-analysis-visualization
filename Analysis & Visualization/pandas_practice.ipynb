{
 "metadata": {
  "language_info": {
   "codemirror_mode": {
    "name": "ipython",
    "version": 3
   },
   "file_extension": ".py",
   "mimetype": "text/x-python",
   "name": "python",
   "nbconvert_exporter": "python",
   "pygments_lexer": "ipython3",
   "version": "3.9.1"
  },
  "orig_nbformat": 4,
  "kernelspec": {
   "name": "python3",
   "display_name": "Python 3.9.1 64-bit"
  },
  "interpreter": {
   "hash": "d5a1a4f6ce25169582ebad7c485937375383d04532466ebacf8813c3dcbf00c9"
  }
 },
 "nbformat": 4,
 "nbformat_minor": 2,
 "cells": [
  {
   "cell_type": "markdown",
   "source": [
    "### Pandas Data Type  \r\n",
    "(1) Series  \r\n",
    "(2) Data Frame  "
   ],
   "metadata": {}
  },
  {
   "cell_type": "code",
   "execution_count": null,
   "source": [
    "import numpy as np\r\n",
    "import matplotlib\r\n",
    "import pandas as pd"
   ],
   "outputs": [],
   "metadata": {}
  },
  {
   "cell_type": "markdown",
   "source": [
    "### Series 형식\n",
    "1차원 배열과 유사하다.  \n",
    "색인(index)를 가지고 접근할 수 있다."
   ],
   "metadata": {}
  },
  {
   "cell_type": "code",
   "execution_count": null,
   "source": [
    "import pandas as pd\r\n",
    "x = pd.Series([7,3,5,8])\r\n",
    "print(x)"
   ],
   "outputs": [],
   "metadata": {}
  },
  {
   "cell_type": "code",
   "execution_count": null,
   "source": [
    "import pandas as pd\r\n",
    "x = pd.Series([7,3,5,8], index=['서울', '대구', '부산', '광주'])\r\n",
    "print(x)"
   ],
   "outputs": [],
   "metadata": {}
  },
  {
   "cell_type": "code",
   "execution_count": null,
   "source": [
    "x[['서울', '부산']]\r\n",
    "# x['서울']\r\n",
    "# x[['서울']]"
   ],
   "outputs": [],
   "metadata": {}
  },
  {
   "cell_type": "code",
   "execution_count": null,
   "source": [
    "print(x.index)"
   ],
   "outputs": [],
   "metadata": {}
  },
  {
   "cell_type": "code",
   "execution_count": null,
   "source": [
    "print(x.values)"
   ],
   "outputs": [],
   "metadata": {}
  },
  {
   "cell_type": "code",
   "execution_count": null,
   "source": [
    "# sorted(x.index)\r\n",
    "sorted(x.values)"
   ],
   "outputs": [],
   "metadata": {}
  },
  {
   "cell_type": "code",
   "execution_count": null,
   "source": [
    "import pandas as pd\r\n",
    "x = pd.Series([7,3,5,8], index=['서울', '대구', '부산', '광주'])\r\n",
    "# x = x.reindex(sorted(x.index))\r\n",
    "x = x.reindex(['대구', '서울', '광주', '부산'])\r\n",
    "print(x)"
   ],
   "outputs": [],
   "metadata": {}
  },
  {
   "cell_type": "code",
   "execution_count": null,
   "source": [
    "# reindex()\r\n",
    "x = x.reindex(sorted(x.values))\r\n",
    "print(x)"
   ],
   "outputs": [],
   "metadata": {}
  },
  {
   "cell_type": "code",
   "execution_count": null,
   "source": [
    "x = pd.Series([3,8,5,9], index=['서울', '대구', '부산', '광주'])\r\n",
    "y = pd.Series([2,3,5,1], index=['대구', '부산', '서울', '대전'])\r\n",
    "x+y\r\n",
    "\r\n",
    "# 공통된 인덱스가 있어야 더할 수 있고, 없을경우 NaN 출력\r\n",
    "# Nan = Not a number\r\n",
    "# ?, N/A, NaN, 0, 빈칸 = 결축치 / 이상치"
   ],
   "outputs": [],
   "metadata": {}
  },
  {
   "cell_type": "code",
   "execution_count": null,
   "source": [
    "medal = [1,3,2,4,2,3]\r\n",
    "x = pd.Series(medal)\r\n",
    "print(pd.unique(x))"
   ],
   "outputs": [],
   "metadata": {}
  },
  {
   "cell_type": "code",
   "execution_count": null,
   "source": [
    "#딕셔너리 형태를 Series로 변환\r\n",
    "age = {'민준' : 23, '현우' : 43, '서연' : 12, '동현' : 45}\r\n",
    "x=pd.Series(age)\r\n",
    "x"
   ],
   "outputs": [],
   "metadata": {}
  },
  {
   "cell_type": "code",
   "execution_count": null,
   "source": [
    "names=['민준', '서연', '현우', '민서', '동현', '수빈']\r\n",
    "pdata = pd.Series(names)\r\n",
    "print(pdata)"
   ],
   "outputs": [],
   "metadata": {}
  },
  {
   "cell_type": "code",
   "execution_count": 38,
   "source": [
    "names=['민준', '서연', '현우', '민서', '동현', '수빈']\r\n",
    "pdata = pd.Series(names)\r\n",
    "a=pdata[3:6]\r\n",
    "# print(a.values)\r\n",
    "print(a)"
   ],
   "outputs": [
    {
     "output_type": "stream",
     "name": "stdout",
     "text": [
      "3    민서\n",
      "4    동현\n",
      "5    수빈\n",
      "dtype: object\n"
     ]
    }
   ],
   "metadata": {}
  },
  {
   "cell_type": "code",
   "execution_count": 42,
   "source": [
    "# 결과 예측\r\n",
    "print(a[4])"
   ],
   "outputs": [
    {
     "output_type": "stream",
     "name": "stdout",
     "text": [
      "동현\n"
     ]
    }
   ],
   "metadata": {}
  },
  {
   "cell_type": "code",
   "execution_count": 43,
   "source": [
    "print(a)"
   ],
   "outputs": [
    {
     "output_type": "stream",
     "name": "stdout",
     "text": [
      "3    민서\n",
      "4    동현\n",
      "5    수빈\n",
      "dtype: object\n"
     ]
    }
   ],
   "metadata": {}
  },
  {
   "cell_type": "code",
   "execution_count": 44,
   "source": [
    "names=['민준', '서연', '현우', '민서', '동현', '수빈']\r\n",
    "pdata = pd.Series(names)\r\n",
    "a=pdata[3:6]\r\n",
    "print(a)\r\n",
    "b=a[1:2]\r\n",
    "print(b)"
   ],
   "outputs": [
    {
     "output_type": "stream",
     "name": "stdout",
     "text": [
      "3    민서\n",
      "4    동현\n",
      "5    수빈\n",
      "dtype: object\n",
      "4    동현\n",
      "dtype: object\n"
     ]
    }
   ],
   "metadata": {}
  },
  {
   "cell_type": "markdown",
   "source": [
    "- 슬라이싱은 일반 배열의 인덱스 형식으로 동작\n",
    "- 그 외에는 Pandas Series의 인덱스 사용"
   ],
   "metadata": {}
  },
  {
   "cell_type": "markdown",
   "source": [
    "### Data Frame"
   ],
   "metadata": {}
  },
  {
   "cell_type": "code",
   "execution_count": 6,
   "source": [
    "data = {'age':[23,43,12,45],\r\n",
    "    'name':['민준','현우','서연','동현'],\r\n",
    "    'height':[175.3, 180.3, 165.8, 172.7]}\r\n",
    "    \r\n",
    "x=pd.DataFrame(data, columns=['name','age', 'height'])\r\n",
    "x"
   ],
   "outputs": [
    {
     "output_type": "execute_result",
     "data": {
      "text/plain": [
       "   age name  height\n",
       "0   23   민준   175.3\n",
       "1   43   현우   180.3\n",
       "2   12   서연   165.8\n",
       "3   45   동현   172.7"
      ],
      "text/html": [
       "<div>\n",
       "<style scoped>\n",
       "    .dataframe tbody tr th:only-of-type {\n",
       "        vertical-align: middle;\n",
       "    }\n",
       "\n",
       "    .dataframe tbody tr th {\n",
       "        vertical-align: top;\n",
       "    }\n",
       "\n",
       "    .dataframe thead th {\n",
       "        text-align: right;\n",
       "    }\n",
       "</style>\n",
       "<table border=\"1\" class=\"dataframe\">\n",
       "  <thead>\n",
       "    <tr style=\"text-align: right;\">\n",
       "      <th></th>\n",
       "      <th>age</th>\n",
       "      <th>name</th>\n",
       "      <th>height</th>\n",
       "    </tr>\n",
       "  </thead>\n",
       "  <tbody>\n",
       "    <tr>\n",
       "      <th>0</th>\n",
       "      <td>23</td>\n",
       "      <td>민준</td>\n",
       "      <td>175.3</td>\n",
       "    </tr>\n",
       "    <tr>\n",
       "      <th>1</th>\n",
       "      <td>43</td>\n",
       "      <td>현우</td>\n",
       "      <td>180.3</td>\n",
       "    </tr>\n",
       "    <tr>\n",
       "      <th>2</th>\n",
       "      <td>12</td>\n",
       "      <td>서연</td>\n",
       "      <td>165.8</td>\n",
       "    </tr>\n",
       "    <tr>\n",
       "      <th>3</th>\n",
       "      <td>45</td>\n",
       "      <td>동현</td>\n",
       "      <td>172.7</td>\n",
       "    </tr>\n",
       "  </tbody>\n",
       "</table>\n",
       "</div>"
      ]
     },
     "metadata": {},
     "execution_count": 6
    }
   ],
   "metadata": {}
  },
  {
   "cell_type": "code",
   "execution_count": null,
   "source": [
    "x.name"
   ],
   "outputs": [],
   "metadata": {}
  },
  {
   "cell_type": "code",
   "execution_count": 7,
   "source": [
    "ary = [[1,2],[3,4],[5,6]]\r\n",
    "data = pd.DataFrame(ary, columns=['first', 'second'])\r\n",
    "data"
   ],
   "outputs": [
    {
     "output_type": "execute_result",
     "data": {
      "text/plain": [
       "   first  second\n",
       "0      1       2\n",
       "1      3       4\n",
       "2      5       6"
      ],
      "text/html": [
       "<div>\n",
       "<style scoped>\n",
       "    .dataframe tbody tr th:only-of-type {\n",
       "        vertical-align: middle;\n",
       "    }\n",
       "\n",
       "    .dataframe tbody tr th {\n",
       "        vertical-align: top;\n",
       "    }\n",
       "\n",
       "    .dataframe thead th {\n",
       "        text-align: right;\n",
       "    }\n",
       "</style>\n",
       "<table border=\"1\" class=\"dataframe\">\n",
       "  <thead>\n",
       "    <tr style=\"text-align: right;\">\n",
       "      <th></th>\n",
       "      <th>first</th>\n",
       "      <th>second</th>\n",
       "    </tr>\n",
       "  </thead>\n",
       "  <tbody>\n",
       "    <tr>\n",
       "      <th>0</th>\n",
       "      <td>1</td>\n",
       "      <td>2</td>\n",
       "    </tr>\n",
       "    <tr>\n",
       "      <th>1</th>\n",
       "      <td>3</td>\n",
       "      <td>4</td>\n",
       "    </tr>\n",
       "    <tr>\n",
       "      <th>2</th>\n",
       "      <td>5</td>\n",
       "      <td>6</td>\n",
       "    </tr>\n",
       "  </tbody>\n",
       "</table>\n",
       "</div>"
      ]
     },
     "metadata": {},
     "execution_count": 7
    }
   ],
   "metadata": {}
  },
  {
   "cell_type": "code",
   "execution_count": 8,
   "source": [
    "# iloc\r\n",
    "data.iloc[1]"
   ],
   "outputs": [
    {
     "output_type": "execute_result",
     "data": {
      "text/plain": [
       "first     3\n",
       "second    4\n",
       "Name: 1, dtype: int64"
      ]
     },
     "metadata": {},
     "execution_count": 8
    }
   ],
   "metadata": {}
  },
  {
   "cell_type": "code",
   "execution_count": 9,
   "source": [
    "data.iloc[:, -1]"
   ],
   "outputs": [
    {
     "output_type": "execute_result",
     "data": {
      "text/plain": [
       "0    2\n",
       "1    4\n",
       "2    6\n",
       "Name: second, dtype: int64"
      ]
     },
     "metadata": {},
     "execution_count": 9
    }
   ],
   "metadata": {}
  },
  {
   "cell_type": "code",
   "execution_count": 13,
   "source": [
    "ary=[[1,2],[3,4],[5,6],[7,8],[9,10],[11,12]]\r\n",
    "data = pd.DataFrame(ary, columns=['first', 'second'])\r\n",
    "data.head(3)\r\n",
    "# data"
   ],
   "outputs": [
    {
     "output_type": "execute_result",
     "data": {
      "text/plain": [
       "   first  second\n",
       "0      1       2\n",
       "1      3       4\n",
       "2      5       6"
      ],
      "text/html": [
       "<div>\n",
       "<style scoped>\n",
       "    .dataframe tbody tr th:only-of-type {\n",
       "        vertical-align: middle;\n",
       "    }\n",
       "\n",
       "    .dataframe tbody tr th {\n",
       "        vertical-align: top;\n",
       "    }\n",
       "\n",
       "    .dataframe thead th {\n",
       "        text-align: right;\n",
       "    }\n",
       "</style>\n",
       "<table border=\"1\" class=\"dataframe\">\n",
       "  <thead>\n",
       "    <tr style=\"text-align: right;\">\n",
       "      <th></th>\n",
       "      <th>first</th>\n",
       "      <th>second</th>\n",
       "    </tr>\n",
       "  </thead>\n",
       "  <tbody>\n",
       "    <tr>\n",
       "      <th>0</th>\n",
       "      <td>1</td>\n",
       "      <td>2</td>\n",
       "    </tr>\n",
       "    <tr>\n",
       "      <th>1</th>\n",
       "      <td>3</td>\n",
       "      <td>4</td>\n",
       "    </tr>\n",
       "    <tr>\n",
       "      <th>2</th>\n",
       "      <td>5</td>\n",
       "      <td>6</td>\n",
       "    </tr>\n",
       "  </tbody>\n",
       "</table>\n",
       "</div>"
      ]
     },
     "metadata": {},
     "execution_count": 13
    }
   ],
   "metadata": {}
  },
  {
   "cell_type": "code",
   "execution_count": 14,
   "source": [
    "data.tail(3)"
   ],
   "outputs": [
    {
     "output_type": "execute_result",
     "data": {
      "text/plain": [
       "   first  second\n",
       "3      7       8\n",
       "4      9      10\n",
       "5     11      12"
      ],
      "text/html": [
       "<div>\n",
       "<style scoped>\n",
       "    .dataframe tbody tr th:only-of-type {\n",
       "        vertical-align: middle;\n",
       "    }\n",
       "\n",
       "    .dataframe tbody tr th {\n",
       "        vertical-align: top;\n",
       "    }\n",
       "\n",
       "    .dataframe thead th {\n",
       "        text-align: right;\n",
       "    }\n",
       "</style>\n",
       "<table border=\"1\" class=\"dataframe\">\n",
       "  <thead>\n",
       "    <tr style=\"text-align: right;\">\n",
       "      <th></th>\n",
       "      <th>first</th>\n",
       "      <th>second</th>\n",
       "    </tr>\n",
       "  </thead>\n",
       "  <tbody>\n",
       "    <tr>\n",
       "      <th>3</th>\n",
       "      <td>7</td>\n",
       "      <td>8</td>\n",
       "    </tr>\n",
       "    <tr>\n",
       "      <th>4</th>\n",
       "      <td>9</td>\n",
       "      <td>10</td>\n",
       "    </tr>\n",
       "    <tr>\n",
       "      <th>5</th>\n",
       "      <td>11</td>\n",
       "      <td>12</td>\n",
       "    </tr>\n",
       "  </tbody>\n",
       "</table>\n",
       "</div>"
      ]
     },
     "metadata": {},
     "execution_count": 14
    }
   ],
   "metadata": {}
  },
  {
   "cell_type": "markdown",
   "source": [
    "특정 항목만 선택하여 저장 및 출력하기"
   ],
   "metadata": {}
  },
  {
   "cell_type": "code",
   "execution_count": 26,
   "source": [
    "ary=[[1,2],[3,4],[5,6],[7,8],[9,10]]\r\n",
    "data = pd.DataFrame(ary, columns=['first', 'second'])\r\n",
    "print(data)\r\n",
    "bools=[False, True, True, False, True]\r\n",
    "data.second[bools]"
   ],
   "outputs": [
    {
     "output_type": "stream",
     "name": "stdout",
     "text": [
      "   first  second\n",
      "0      1       2\n",
      "1      3       4\n",
      "2      5       6\n",
      "3      7       8\n",
      "4      9      10\n"
     ]
    },
    {
     "output_type": "execute_result",
     "data": {
      "text/plain": [
       "1     4\n",
       "2     6\n",
       "4    10\n",
       "Name: second, dtype: int64"
      ]
     },
     "metadata": {},
     "execution_count": 26
    }
   ],
   "metadata": {}
  },
  {
   "cell_type": "code",
   "execution_count": 31,
   "source": [
    "data = {'age':[23,43,12,45],\r\n",
    "'name':['민준','현우','서연','동현'],\r\n",
    "'height':[175.3, 180.3, 165.8, 172.7]}\r\n",
    "x=pd.DataFrame(data, columns=['name','age', 'height'])\r\n",
    "print(x)\r\n",
    "print(x.mean(axis=0))"
   ],
   "outputs": [
    {
     "output_type": "stream",
     "name": "stdout",
     "text": [
      "  name  age  height\n",
      "0   민준   23   175.3\n",
      "1   현우   43   180.3\n",
      "2   서연   12   165.8\n",
      "3   동현   45   172.7\n",
      "age        30.750\n",
      "height    173.525\n",
      "dtype: float64\n"
     ]
    }
   ],
   "metadata": {}
  },
  {
   "cell_type": "code",
   "execution_count": 32,
   "source": [
    "data = {'age':[23,43,12,45],\r\n",
    "'name':['민준','현우','서연','동현'],\r\n",
    "'height':[175.3, 180.3, 165.8, 172.7]}\r\n",
    "\r\n",
    "x=pd.DataFrame(data, columns=['name','age', 'height'])\r\n",
    "\r\n",
    "index=[True, False, True, False]\r\n",
    "print(x[index])"
   ],
   "outputs": [
    {
     "output_type": "stream",
     "name": "stdout",
     "text": [
      "  name  age  height\n",
      "0   민준   23   175.3\n",
      "2   서연   12   165.8\n"
     ]
    }
   ],
   "metadata": {}
  },
  {
   "cell_type": "markdown",
   "source": [
    "### Pandas Series, DataFrame 내의 데이터형"
   ],
   "metadata": {}
  },
  {
   "cell_type": "markdown",
   "source": [
    "1. Objects : 문자 또는 문자열형\r\n",
    "2. Int64 : 정수형\r\n",
    "3. Float64 : 실수형"
   ],
   "metadata": {}
  },
  {
   "cell_type": "markdown",
   "source": [
    "### Pandas 데이터의 형변환"
   ],
   "metadata": {}
  },
  {
   "cell_type": "code",
   "execution_count": 40,
   "source": [
    "import pandas as pd\r\n",
    "import numpy as np\r\n",
    "ary = [[1,2], [3,4], [5,6], [7,8],[9,10]]\r\n",
    "data = pd.DataFrame(ary, columns=['수온', '상온'])\r\n",
    "data"
   ],
   "outputs": [
    {
     "output_type": "execute_result",
     "data": {
      "text/plain": [
       "   수온  상온\n",
       "0   1   2\n",
       "1   3   4\n",
       "2   5   6\n",
       "3   7   8\n",
       "4   9  10"
      ],
      "text/html": [
       "<div>\n",
       "<style scoped>\n",
       "    .dataframe tbody tr th:only-of-type {\n",
       "        vertical-align: middle;\n",
       "    }\n",
       "\n",
       "    .dataframe tbody tr th {\n",
       "        vertical-align: top;\n",
       "    }\n",
       "\n",
       "    .dataframe thead th {\n",
       "        text-align: right;\n",
       "    }\n",
       "</style>\n",
       "<table border=\"1\" class=\"dataframe\">\n",
       "  <thead>\n",
       "    <tr style=\"text-align: right;\">\n",
       "      <th></th>\n",
       "      <th>수온</th>\n",
       "      <th>상온</th>\n",
       "    </tr>\n",
       "  </thead>\n",
       "  <tbody>\n",
       "    <tr>\n",
       "      <th>0</th>\n",
       "      <td>1</td>\n",
       "      <td>2</td>\n",
       "    </tr>\n",
       "    <tr>\n",
       "      <th>1</th>\n",
       "      <td>3</td>\n",
       "      <td>4</td>\n",
       "    </tr>\n",
       "    <tr>\n",
       "      <th>2</th>\n",
       "      <td>5</td>\n",
       "      <td>6</td>\n",
       "    </tr>\n",
       "    <tr>\n",
       "      <th>3</th>\n",
       "      <td>7</td>\n",
       "      <td>8</td>\n",
       "    </tr>\n",
       "    <tr>\n",
       "      <th>4</th>\n",
       "      <td>9</td>\n",
       "      <td>10</td>\n",
       "    </tr>\n",
       "  </tbody>\n",
       "</table>\n",
       "</div>"
      ]
     },
     "metadata": {},
     "execution_count": 40
    }
   ],
   "metadata": {}
  },
  {
   "cell_type": "code",
   "execution_count": 43,
   "source": [
    "data['수온'] = data['수온'].astype('float')\r\n",
    "print(data)"
   ],
   "outputs": [
    {
     "output_type": "stream",
     "name": "stdout",
     "text": [
      "    수온  상온\n",
      "0  1.0   2\n",
      "1  3.0   4\n",
      "2  5.0   6\n",
      "3  7.0   8\n",
      "4  9.0  10\n"
     ]
    }
   ],
   "metadata": {}
  },
  {
   "cell_type": "code",
   "execution_count": 44,
   "source": [
    "import pandas as pd\r\n",
    "news = pd.read_csv('../Data Collection (Scraping)/news_result.csv')\r\n",
    "news.head()"
   ],
   "outputs": [
    {
     "output_type": "execute_result",
     "data": {
      "text/plain": [
       "                                     news_title  \\\n",
       "0               한은, 기준금리 동결…\"코로나 불확실성 잠재\"(종합2보)   \n",
       "1    문재인 대통령, 청해부대원 코로나19 확진에 “현지 여건 안되면 국내 후송”   \n",
       "2  금통위, 코로나 확산에도 금리 인상 시그널..\"통화완화 정도 조정할 것\"(상보)   \n",
       "3           한은 금통위, 기준금리 0.5% 동결...코로나 4차 유행 감안   \n",
       "4               문 대통령, 청해부대 코로나 확진에 \"의료인력 신속투입\"   \n",
       "\n",
       "                                           news_link  \n",
       "0       http://yna.kr/AKR20210715061651002?did=1195m  \n",
       "1  https://www.khan.co.kr/politics/president/arti...  \n",
       "2  http://www.edaily.co.kr/news/newspath.asp?news...  \n",
       "3  http://www.newsis.com/view/?id=NISX20210715_00...  \n",
       "4  https://news.sbs.co.kr/news/endPage.do?news_id...  "
      ],
      "text/html": [
       "<div>\n",
       "<style scoped>\n",
       "    .dataframe tbody tr th:only-of-type {\n",
       "        vertical-align: middle;\n",
       "    }\n",
       "\n",
       "    .dataframe tbody tr th {\n",
       "        vertical-align: top;\n",
       "    }\n",
       "\n",
       "    .dataframe thead th {\n",
       "        text-align: right;\n",
       "    }\n",
       "</style>\n",
       "<table border=\"1\" class=\"dataframe\">\n",
       "  <thead>\n",
       "    <tr style=\"text-align: right;\">\n",
       "      <th></th>\n",
       "      <th>news_title</th>\n",
       "      <th>news_link</th>\n",
       "    </tr>\n",
       "  </thead>\n",
       "  <tbody>\n",
       "    <tr>\n",
       "      <th>0</th>\n",
       "      <td>한은, 기준금리 동결…\"코로나 불확실성 잠재\"(종합2보)</td>\n",
       "      <td>http://yna.kr/AKR20210715061651002?did=1195m</td>\n",
       "    </tr>\n",
       "    <tr>\n",
       "      <th>1</th>\n",
       "      <td>문재인 대통령, 청해부대원 코로나19 확진에 “현지 여건 안되면 국내 후송”</td>\n",
       "      <td>https://www.khan.co.kr/politics/president/arti...</td>\n",
       "    </tr>\n",
       "    <tr>\n",
       "      <th>2</th>\n",
       "      <td>금통위, 코로나 확산에도 금리 인상 시그널..\"통화완화 정도 조정할 것\"(상보)</td>\n",
       "      <td>http://www.edaily.co.kr/news/newspath.asp?news...</td>\n",
       "    </tr>\n",
       "    <tr>\n",
       "      <th>3</th>\n",
       "      <td>한은 금통위, 기준금리 0.5% 동결...코로나 4차 유행 감안</td>\n",
       "      <td>http://www.newsis.com/view/?id=NISX20210715_00...</td>\n",
       "    </tr>\n",
       "    <tr>\n",
       "      <th>4</th>\n",
       "      <td>문 대통령, 청해부대 코로나 확진에 \"의료인력 신속투입\"</td>\n",
       "      <td>https://news.sbs.co.kr/news/endPage.do?news_id...</td>\n",
       "    </tr>\n",
       "  </tbody>\n",
       "</table>\n",
       "</div>"
      ]
     },
     "metadata": {},
     "execution_count": 44
    }
   ],
   "metadata": {}
  },
  {
   "cell_type": "code",
   "execution_count": 45,
   "source": [
    "import pandas as pd\r\n",
    "data = pd.read_csv('./공공데이터활용지원센터_코로나19 예방접종센터 현황_20210716.csv', encoding='cp949')\r\n",
    "data.head()\r\n",
    "# utf-8 / cp949"
   ],
   "outputs": [
    {
     "output_type": "execute_result",
     "data": {
      "text/plain": [
       "   연번   센터유형                    센터명       운영기관               시설명   우편번호  \\\n",
       "0   1  중앙/권역        코로나19 중앙 예방접종센터    국립중앙의료원        국립중앙의료원 D동   4562   \n",
       "1   2  중앙/권역      코로나19 중부권역 예방접종센터  순천향대 천안병원    천안시 실내배드민턴장 1층  31212   \n",
       "2   3  중앙/권역      코로나19 호남권역 예방접종센터      조선대병원    조선대학교병원 의성관 5층  61452   \n",
       "3   4  중앙/권역      코로나19 영남권역 예방접종센터   양산 부산대병원  양산 부산대병원 기숙사동 1층  50612   \n",
       "4   5     지역  코로나19 대구광역시 중구 예방접종센터        NaN   계명대학교 대구동산병원 별관  41931   \n",
       "\n",
       "                      주소       사무실전화번호  \n",
       "0    서울특별시 중구 을지로 39길 29  02-2260-7114  \n",
       "1  충청남도 천안시 동남구 천안대로 357           NaN  \n",
       "2      광주광역시 동구 필문대로 365  062-220-3739  \n",
       "3    경상남도 양산시 물금읍 금오로 20  055-360-6701  \n",
       "4          대구시 중구 달성로 56  053-661-3955  "
      ],
      "text/html": [
       "<div>\n",
       "<style scoped>\n",
       "    .dataframe tbody tr th:only-of-type {\n",
       "        vertical-align: middle;\n",
       "    }\n",
       "\n",
       "    .dataframe tbody tr th {\n",
       "        vertical-align: top;\n",
       "    }\n",
       "\n",
       "    .dataframe thead th {\n",
       "        text-align: right;\n",
       "    }\n",
       "</style>\n",
       "<table border=\"1\" class=\"dataframe\">\n",
       "  <thead>\n",
       "    <tr style=\"text-align: right;\">\n",
       "      <th></th>\n",
       "      <th>연번</th>\n",
       "      <th>센터유형</th>\n",
       "      <th>센터명</th>\n",
       "      <th>운영기관</th>\n",
       "      <th>시설명</th>\n",
       "      <th>우편번호</th>\n",
       "      <th>주소</th>\n",
       "      <th>사무실전화번호</th>\n",
       "    </tr>\n",
       "  </thead>\n",
       "  <tbody>\n",
       "    <tr>\n",
       "      <th>0</th>\n",
       "      <td>1</td>\n",
       "      <td>중앙/권역</td>\n",
       "      <td>코로나19 중앙 예방접종센터</td>\n",
       "      <td>국립중앙의료원</td>\n",
       "      <td>국립중앙의료원 D동</td>\n",
       "      <td>4562</td>\n",
       "      <td>서울특별시 중구 을지로 39길 29</td>\n",
       "      <td>02-2260-7114</td>\n",
       "    </tr>\n",
       "    <tr>\n",
       "      <th>1</th>\n",
       "      <td>2</td>\n",
       "      <td>중앙/권역</td>\n",
       "      <td>코로나19 중부권역 예방접종센터</td>\n",
       "      <td>순천향대 천안병원</td>\n",
       "      <td>천안시 실내배드민턴장 1층</td>\n",
       "      <td>31212</td>\n",
       "      <td>충청남도 천안시 동남구 천안대로 357</td>\n",
       "      <td>NaN</td>\n",
       "    </tr>\n",
       "    <tr>\n",
       "      <th>2</th>\n",
       "      <td>3</td>\n",
       "      <td>중앙/권역</td>\n",
       "      <td>코로나19 호남권역 예방접종센터</td>\n",
       "      <td>조선대병원</td>\n",
       "      <td>조선대학교병원 의성관 5층</td>\n",
       "      <td>61452</td>\n",
       "      <td>광주광역시 동구 필문대로 365</td>\n",
       "      <td>062-220-3739</td>\n",
       "    </tr>\n",
       "    <tr>\n",
       "      <th>3</th>\n",
       "      <td>4</td>\n",
       "      <td>중앙/권역</td>\n",
       "      <td>코로나19 영남권역 예방접종센터</td>\n",
       "      <td>양산 부산대병원</td>\n",
       "      <td>양산 부산대병원 기숙사동 1층</td>\n",
       "      <td>50612</td>\n",
       "      <td>경상남도 양산시 물금읍 금오로 20</td>\n",
       "      <td>055-360-6701</td>\n",
       "    </tr>\n",
       "    <tr>\n",
       "      <th>4</th>\n",
       "      <td>5</td>\n",
       "      <td>지역</td>\n",
       "      <td>코로나19 대구광역시 중구 예방접종센터</td>\n",
       "      <td>NaN</td>\n",
       "      <td>계명대학교 대구동산병원 별관</td>\n",
       "      <td>41931</td>\n",
       "      <td>대구시 중구 달성로 56</td>\n",
       "      <td>053-661-3955</td>\n",
       "    </tr>\n",
       "  </tbody>\n",
       "</table>\n",
       "</div>"
      ]
     },
     "metadata": {},
     "execution_count": 45
    }
   ],
   "metadata": {}
  },
  {
   "cell_type": "markdown",
   "source": [
    "### 공공데이터포털에서 데이터를 받아와 Pandas로 읽어보자!"
   ],
   "metadata": {}
  },
  {
   "cell_type": "markdown",
   "source": [],
   "metadata": {}
  },
  {
   "cell_type": "code",
   "execution_count": 1,
   "source": [
    "import pandas as pd\r\n",
    "import numpy as np\r\n",
    "from numpy import NaN\r\n",
    "data = pd.DataFrame(np.arange(12).reshape(3,4), columns=['A', 'B', 'C', 'D'])\r\n",
    "data.D[2] = 'NaN'\r\n",
    "data"
   ],
   "outputs": [
    {
     "output_type": "execute_result",
     "data": {
      "text/plain": [
       "   A  B   C    D\n",
       "0  0  1   2    3\n",
       "1  4  5   6    7\n",
       "2  8  9  10  NaN"
      ],
      "text/html": [
       "<div>\n",
       "<style scoped>\n",
       "    .dataframe tbody tr th:only-of-type {\n",
       "        vertical-align: middle;\n",
       "    }\n",
       "\n",
       "    .dataframe tbody tr th {\n",
       "        vertical-align: top;\n",
       "    }\n",
       "\n",
       "    .dataframe thead th {\n",
       "        text-align: right;\n",
       "    }\n",
       "</style>\n",
       "<table border=\"1\" class=\"dataframe\">\n",
       "  <thead>\n",
       "    <tr style=\"text-align: right;\">\n",
       "      <th></th>\n",
       "      <th>A</th>\n",
       "      <th>B</th>\n",
       "      <th>C</th>\n",
       "      <th>D</th>\n",
       "    </tr>\n",
       "  </thead>\n",
       "  <tbody>\n",
       "    <tr>\n",
       "      <th>0</th>\n",
       "      <td>0</td>\n",
       "      <td>1</td>\n",
       "      <td>2</td>\n",
       "      <td>3</td>\n",
       "    </tr>\n",
       "    <tr>\n",
       "      <th>1</th>\n",
       "      <td>4</td>\n",
       "      <td>5</td>\n",
       "      <td>6</td>\n",
       "      <td>7</td>\n",
       "    </tr>\n",
       "    <tr>\n",
       "      <th>2</th>\n",
       "      <td>8</td>\n",
       "      <td>9</td>\n",
       "      <td>10</td>\n",
       "      <td>NaN</td>\n",
       "    </tr>\n",
       "  </tbody>\n",
       "</table>\n",
       "</div>"
      ]
     },
     "metadata": {},
     "execution_count": 1
    }
   ],
   "metadata": {}
  },
  {
   "cell_type": "code",
   "execution_count": null,
   "source": [
    "data.drop(['D'], axis=1)"
   ],
   "outputs": [],
   "metadata": {}
  }
 ]
}